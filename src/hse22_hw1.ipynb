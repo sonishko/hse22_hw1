{
  "nbformat": 4,
  "nbformat_minor": 0,
  "metadata": {
    "colab": {
      "provenance": []
    },
    "kernelspec": {
      "name": "python3",
      "display_name": "Python 3"
    },
    "language_info": {
      "name": "python"
    }
  },
  "cells": [
    {
      "cell_type": "code",
      "source": [
        "import re\n",
        "!pip install fastaparser\n",
        "import fastaparser as fst\n",
        "import pandas as pd\n"
      ],
      "metadata": {
        "id": "mE9YDXL1r8M3",
        "colab": {
          "base_uri": "https://localhost:8080/"
        },
        "outputId": "6970e14c-ac66-436a-8759-58a412edf706"
      },
      "execution_count": 1,
      "outputs": [
        {
          "output_type": "stream",
          "name": "stdout",
          "text": [
            "Looking in indexes: https://pypi.org/simple, https://us-python.pkg.dev/colab-wheels/public/simple/\n",
            "Collecting fastaparser\n",
            "  Downloading fastaparser-1.1.1-py3-none-any.whl (29 kB)\n",
            "Installing collected packages: fastaparser\n",
            "Successfully installed fastaparser-1.1.1\n"
          ]
        }
      ]
    },
    {
      "cell_type": "code",
      "source": [
        "def parser(path):\n",
        "    with open(path, \"r\") as file:\n",
        "        seq_parser = fst.Reader(file, parse_method='quick')\n",
        "        df = pd.DataFrame(columns=[\"Sequence\", \"Length\"])\n",
        "        for seq in seq_parser:\n",
        "            df.loc[seq.header, 'Sequence'] = seq.sequence\n",
        "            df.loc[seq.header, 'Length'] = len(seq.sequence)\n",
        "    return df.sort_values(by=\"Length\", ascending=False)"
      ],
      "metadata": {
        "id": "0ufFqJ8XsC-n"
      },
      "execution_count": 2,
      "outputs": []
    },
    {
      "cell_type": "code",
      "source": [
        "def analyzer(df):\n",
        "    print(\"Количество:\", len(df))\n",
        "    print(\"Длина:\", df.Length.sum())\n",
        "    print(\"Длина самого длинного:\", df.Length[0])\n",
        "    i = 1\n",
        "    len_sum = df.Length[0]\n",
        "    while len_sum < df.Length.sum() / 2:\n",
        "        len_sum += df.Length[i]\n",
        "        i += 1\n",
        "    print(\"N50:\", df.Length[i-1])"
      ],
      "metadata": {
        "id": "_rH1GvvoSTkt"
      },
      "execution_count": 11,
      "outputs": []
    },
    {
      "cell_type": "code",
      "source": [
        "def gaps(seq):\n",
        "    print(\"Количество гэпов:\", len(re.findall(\"N+\", seq)))\n",
        "    print(\"Общая длина гэпов:\", seq.count(\"N\"))"
      ],
      "metadata": {
        "id": "dYN-QA-QSU75"
      },
      "execution_count": 12,
      "outputs": []
    },
    {
      "cell_type": "code",
      "source": [
        "contigs = parser('/content/Poil_contig.fa')\n",
        "scaffolds = parser('/content/Poil_scaffold.fa')\n",
        "gapCloses = parser('/content/Poil_gapClosed.fa')"
      ],
      "metadata": {
        "id": "oMIJMDQ9SfzP"
      },
      "execution_count": 13,
      "outputs": []
    },
    {
      "cell_type": "markdown",
      "source": [
        "Проанализируем контиги\n"
      ],
      "metadata": {
        "id": "o1idyBoWuDra"
      }
    },
    {
      "cell_type": "code",
      "source": [
        "analyzer(contigs)\n"
      ],
      "metadata": {
        "id": "rzrjQLQdmlF6",
        "colab": {
          "base_uri": "https://localhost:8080/"
        },
        "outputId": "8d253942-d800-4bfc-89a0-e5dd77c54724"
      },
      "execution_count": 14,
      "outputs": [
        {
          "output_type": "stream",
          "name": "stdout",
          "text": [
            "Количество: 634\n",
            "Длина: 3927242\n",
            "Длина самого длинного: 179307\n",
            "N50: 53977\n"
          ]
        }
      ]
    },
    {
      "cell_type": "markdown",
      "source": [
        "Проанализируем скаффолды\n"
      ],
      "metadata": {
        "id": "127CjE8hLINA"
      }
    },
    {
      "cell_type": "code",
      "source": [
        "analyzer(scaffolds)\n",
        "gaps(scaffolds.Sequence[0])\n"
      ],
      "metadata": {
        "colab": {
          "base_uri": "https://localhost:8080/"
        },
        "id": "loujJEIMLMKr",
        "outputId": "c39b31a5-e712-41b1-915a-6fdb911e6034"
      },
      "execution_count": 15,
      "outputs": [
        {
          "output_type": "stream",
          "name": "stdout",
          "text": [
            "Количество: 68\n",
            "Длина: 3872523\n",
            "Длина самого длинного: 3835091\n",
            "N50: 3835091\n",
            "Количество гэпов: 61\n",
            "Общая длина гэпов: 6420\n"
          ]
        }
      ]
    },
    {
      "cell_type": "markdown",
      "source": [
        "Рассмотрим скаффолды с уменьшенным количеством гэпов\n"
      ],
      "metadata": {
        "id": "0qs857YhMuIe"
      }
    },
    {
      "cell_type": "code",
      "source": [
        "analyzer(gapCloses)\n",
        "gaps(gapCloses.Sequence[0])"
      ],
      "metadata": {
        "colab": {
          "base_uri": "https://localhost:8080/"
        },
        "id": "e8-_6OHxAzea",
        "outputId": "ea0ef097-05dc-4abd-ed4c-6bd9f4586fef"
      },
      "execution_count": 17,
      "outputs": [
        {
          "output_type": "stream",
          "name": "stdout",
          "text": [
            "Количество: 68\n",
            "Длина: 3905331\n",
            "Длина самого длинного: 3867647\n",
            "N50: 3867647\n",
            "Количество гэпов: 10\n",
            "Общая длина гэпов: 2383\n"
          ]
        }
      ]
    },
    {
      "cell_type": "markdown",
      "source": [
        "Сохраним наибольший скаффлод в фацл формата fasta\n"
      ],
      "metadata": {
        "id": "vwTiFWICC7r5"
      }
    },
    {
      "cell_type": "code",
      "source": [
        "with open(r\"/longest.fasta\", 'w') as fasta_file:\n",
        "    writer = fst.Writer(fasta_file)\n",
        "    writer.writefasta((gapCloses.index[0], gapCloses.Sequence[0]))"
      ],
      "metadata": {
        "id": "5-xF-GMaBoH9"
      },
      "execution_count": 19,
      "outputs": []
    },
    {
      "cell_type": "markdown",
      "source": [
        "Дополнительное задание\n"
      ],
      "metadata": {
        "id": "Euc3Vh2rOnYV"
      }
    },
    {
      "cell_type": "code",
      "source": [
        "contigs_b = parser('/content/Poil_contig_bonus.fa')\n",
        "scaffolds_b = parser('/content/Poil_scaffold_bonus.fa')\n",
        "gapCloses_b = parser('/content/Poil_gapClosed_bonus.fa')"
      ],
      "metadata": {
        "id": "ocdLMWKFOmL2"
      },
      "execution_count": 20,
      "outputs": []
    },
    {
      "cell_type": "code",
      "source": [
        "analyzer(contigs_b)"
      ],
      "metadata": {
        "colab": {
          "base_uri": "https://localhost:8080/"
        },
        "id": "IpPUKDvAT_Y2",
        "outputId": "a71f3b5d-dc49-494d-f63a-fbfb4f41200a"
      },
      "execution_count": 22,
      "outputs": [
        {
          "output_type": "stream",
          "name": "stdout",
          "text": [
            "Количество: 681\n",
            "Длина: 3922264\n",
            "Длина самого длинного: 210856\n",
            "N50: 72806\n"
          ]
        }
      ]
    },
    {
      "cell_type": "code",
      "source": [
        "analyzer(scaffolds_b)\n",
        "gaps(scaffolds_b.Sequence[0])"
      ],
      "metadata": {
        "colab": {
          "base_uri": "https://localhost:8080/"
        },
        "id": "gtMMh9EbNutV",
        "outputId": "98972520-49f0-4e52-8fa7-178b4f982bf4"
      },
      "execution_count": 23,
      "outputs": [
        {
          "output_type": "stream",
          "name": "stdout",
          "text": [
            "Количество: 81\n",
            "Длина: 3848585\n",
            "Длина самого длинного: 2966811\n",
            "N50: 2966811\n",
            "Количество гэпов: 62\n",
            "Общая длина гэпов: 7004\n"
          ]
        }
      ]
    },
    {
      "cell_type": "code",
      "source": [
        "analyzer(gapCloses_b)\n",
        "gaps(gapCloses_b.Sequence[0])"
      ],
      "metadata": {
        "colab": {
          "base_uri": "https://localhost:8080/"
        },
        "id": "FR1_DuupCJp_",
        "outputId": "b9b4f42f-9705-441b-ff1f-bcd2d6acaf8a"
      },
      "execution_count": 24,
      "outputs": [
        {
          "output_type": "stream",
          "name": "stdout",
          "text": [
            "Количество: 68\n",
            "Длина: 3905331\n",
            "Длина самого длинного: 3867647\n",
            "N50: 3867647\n",
            "Количество гэпов: 10\n",
            "Общая длина гэпов: 2383\n"
          ]
        }
      ]
    }
  ]
}